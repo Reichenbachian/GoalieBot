{
 "cells": [
  {
   "cell_type": "markdown",
   "metadata": {},
   "source": [
    "# The Goalie Bot"
   ]
  },
  {
   "cell_type": "markdown",
   "metadata": {},
   "source": [
    "###### Alex Reichenbach, Darcy Meyer, Gherardo Morona, Jocelyn Shen, Hugh Jones, Neil Shroff"
   ]
  },
  {
   "cell_type": "markdown",
   "metadata": {},
   "source": [
    "<img src=\"Picture1.png\">"
   ]
  },
  {
   "cell_type": "code",
   "execution_count": 3,
   "metadata": {
    "collapsed": false
   },
   "outputs": [],
   "source": [
    "from IPython.display import HTML\n",
    "import pandas as pd\n",
    "import numpy as np\n",
    "import matplotlib.pyplot as plt\n",
    "import pandas as pd\n",
    "from sklearn.linear_model import LinearRegression\n",
    "from scipy import stats\n",
    "import math\n",
    "#import rospy\n",
    "#from geometry_msgs.msg import Twist"
   ]
  },
  {
   "cell_type": "code",
   "execution_count": 18,
   "metadata": {
    "collapsed": false
   },
   "outputs": [
    {
     "data": {
      "text/html": [
       "<iframe width=\"560\" height=\"315\" src=\"https://www.youtube.com/embed/zAfiCy9muuA\" frameborder=\"0\" allowfullscreen></iframe>"
      ],
      "text/plain": [
       "<IPython.core.display.HTML object>"
      ]
     },
     "execution_count": 18,
     "metadata": {},
     "output_type": "execute_result"
    }
   ],
   "source": [
    "HTML('<iframe width=\"560\" height=\"315\" src=\"https://www.youtube.com/embed/zAfiCy9muuA\" frameborder=\"0\" allowfullscreen></iframe>')"
   ]
  },
  {
   "cell_type": "markdown",
   "metadata": {},
   "source": [
    "# What it does"
   ]
  },
  {
   "cell_type": "markdown",
   "metadata": {},
   "source": [
    "The Goalie bot predicts the path of a ball, in order to intercept it"
   ]
  },
  {
   "cell_type": "markdown",
   "metadata": {},
   "source": [
    "# How it works"
   ]
  },
  {
   "cell_type": "markdown",
   "metadata": {},
   "source": [
    "1. The robot processes the image of the ball using \n",
    "1. It then converts the images to coordinates in a 2D plane\n",
    "1. Then, it performs a linear regression on these coordinates to predict the line the ball will follow\n",
    "1. The Goalie Bot calculates the shortest time to intercept the path, and moves to block the ball"
   ]
  },
  {
   "cell_type": "markdown",
   "metadata": {},
   "source": [
    "# 1. Image Processing"
   ]
  },
  {
   "cell_type": "markdown",
   "metadata": {},
   "source": [
    "#### *Sensors and Communication with the Turtlebot*"
   ]
  },
  {
   "cell_type": "code",
   "execution_count": 4,
   "metadata": {
    "collapsed": true
   },
   "outputs": [],
   "source": [
    "from PIL import Image, ImageDraw"
   ]
  },
  {
   "cell_type": "code",
   "execution_count": 5,
   "metadata": {
    "collapsed": false
   },
   "outputs": [],
   "source": [
    "img = Image.open('20161104_172958.jpg')\n",
    "if type(img) == None:\n",
    "    print(\"ERROR! IMAGE NOT FOUND\")"
   ]
  },
  {
   "cell_type": "code",
   "execution_count": 6,
   "metadata": {
    "collapsed": true
   },
   "outputs": [],
   "source": [
    "def findBall(r, g, b, tol, image):\n",
    "    rLower = r-tol\n",
    "    rUpper = r+tol\n",
    "    gLower = g-tol\n",
    "    gUpper = g+tol\n",
    "    bLower = b-tol\n",
    "    bUpper = b+tol\n",
    "    xBall = []\n",
    "    yBall = []\n",
    "    width, height = image.size\n",
    "    for yCoord in range(0, height, 3):\n",
    "        for xCoord in range(0, width, 3):\n",
    "            r, g, b = image.getpixel((xCoord, yCoord))\n",
    "            #Please note imread is in BGR!\n",
    "            if g > b + tol and g > r + tol:\n",
    "                    xBall.append(xCoord)\n",
    "                    yBall.append(yCoord)\n",
    "    return (sum(xBall)/len(xBall), sum(yBall)/len(yBall))\n",
    "                    "
   ]
  },
  {
   "cell_type": "code",
   "execution_count": 7,
   "metadata": {
    "collapsed": true
   },
   "outputs": [],
   "source": [
    "coords = findBall(100, 100, 90, 10, img)\n",
    "draw = ImageDraw.Draw(img)\n",
    "draw.ellipse((coords[0]-20, coords[1]-20, coords[0]+20, coords[1]+20), fill = 'blue', outline ='blue')\n",
    "img.show()"
   ]
  },
  {
   "cell_type": "code",
   "execution_count": 8,
   "metadata": {
    "collapsed": false
   },
   "outputs": [
    {
     "name": "stdout",
     "output_type": "stream",
     "text": [
      "(3544.1650000447617, 1476.6039049980752)\n"
     ]
    }
   ],
   "source": [
    "print(findBall(110, 149, 90, 10, img))"
   ]
  },
  {
   "cell_type": "code",
   "execution_count": 9,
   "metadata": {
    "collapsed": false
   },
   "outputs": [],
   "source": [
    "CAMERA_ANGLE = 57*math.pi/180 #the camera horizontal angle is 57 degrees\n",
    "NUM_PIXLES = img.size[0]\n",
    "\n",
    "def find_pos(depth, xpos):\n",
    "    r = depth\n",
    "    theta = (xpos-NUM_PIXLES/2)/(NUM_PIXLES/2)*CAMERA_ANGLE/2\n",
    "    x = r*cos(theta)\n",
    "    y = r*sin(theta)\n",
    "    return (x, y)"
   ]
  },
  {
   "cell_type": "markdown",
   "metadata": {},
   "source": [
    "###### Finding the ball with the RGB Camera"
   ]
  },
  {
   "cell_type": "code",
   "execution_count": 10,
   "metadata": {
    "collapsed": false
   },
   "outputs": [
    {
     "data": {
      "text/html": [
       "<iframe width=\"560\" height=\"315\" src=\"https://www.youtube.com/embed/M_ruYUJyrnw\" frameborder=\"0\" allowfullscreen></iframe>"
      ],
      "text/plain": [
       "<IPython.core.display.HTML object>"
      ]
     },
     "execution_count": 10,
     "metadata": {},
     "output_type": "execute_result"
    }
   ],
   "source": [
    "HTML('<iframe width=\"560\" height=\"315\" src=\"https://www.youtube.com/embed/M_ruYUJyrnw\" frameborder=\"0\" allowfullscreen></iframe>')"
   ]
  },
  {
   "cell_type": "markdown",
   "metadata": {},
   "source": [
    "# 2. Predicting the Path of the Ball"
   ]
  },
  {
   "cell_type": "markdown",
   "metadata": {},
   "source": [
    "###### *Calculating the shortest distance to the path*"
   ]
  },
  {
   "cell_type": "markdown",
   "metadata": {},
   "source": [
    "#### *Sample Dataset*"
   ]
  },
  {
   "cell_type": "code",
   "execution_count": 11,
   "metadata": {
    "collapsed": false,
    "scrolled": true
   },
   "outputs": [
    {
     "data": {
      "text/plain": [
       "LinearRegression(copy_X=True, fit_intercept=True, n_jobs=1, normalize=False)"
      ]
     },
     "execution_count": 11,
     "metadata": {},
     "output_type": "execute_result"
    }
   ],
   "source": [
    "points_x = [1, 2, 3.1, 4.2, 5.1, 4.9]\n",
    "points_y = [1.1,2,3,4,5,4.8]\n",
    "points = {\"x\": points_x, \"y\": points_y}\n",
    "df = pd.DataFrame(points)\n",
    "linreg = LinearRegression()\n",
    "X = df.x\n",
    "X = X.reshape(-1,1)\n",
    "y = df.y\n",
    "linreg.fit(X,y)"
   ]
  },
  {
   "cell_type": "markdown",
   "metadata": {},
   "source": [
    "###### Plot the path of the ball and the coordinates of the ball that are read from the robot"
   ]
  },
  {
   "cell_type": "markdown",
   "metadata": {},
   "source": [
    "$$y = m\\cdot x + b$$"
   ]
  },
  {
   "cell_type": "code",
   "execution_count": 12,
   "metadata": {
    "collapsed": false
   },
   "outputs": [],
   "source": [
    "m = linreg.coef_[0]\n",
    "b = linreg.intercept_ \n",
    "x = np.linspace(0,max(df[\"x\"]), 10)\n",
    "abline_values = [m * i + b for i in x]\n",
    "df.plot(\"x\",\"y\", kind = \"scatter\")\n",
    "plt.plot(x, abline_values, 'b')\n",
    "plt.show()"
   ]
  },
  {
   "cell_type": "markdown",
   "metadata": {},
   "source": [
    "# 3. Intercepting the Ball"
   ]
  },
  {
   "cell_type": "markdown",
   "metadata": {},
   "source": [
    "###### Find the equation of the line that the robot must follow, perpendicular to the line the ball follows"
   ]
  },
  {
   "cell_type": "markdown",
   "metadata": {},
   "source": [
    "$$y_b = m_b\\cdot x$$"
   ]
  },
  {
   "cell_type": "code",
   "execution_count": 13,
   "metadata": {
    "collapsed": false
   },
   "outputs": [],
   "source": [
    "m_bot = -1/m\n",
    "b_bot = 0\n",
    "x = np.linspace(0,max(df[\"x\"]), 10)\n",
    "abline_values = [m_bot * i + b_bot for i in x]\n",
    "df.plot(\"x\",\"y\", kind = \"scatter\")\n",
    "plt.plot(x, abline_values, 'b')\n",
    "plt.show()"
   ]
  },
  {
   "cell_type": "markdown",
   "metadata": {},
   "source": [
    "###### Calculate the point of intersection between the path the ball follows, and the path the robot follows"
   ]
  },
  {
   "cell_type": "markdown",
   "metadata": {},
   "source": [
    "$$m\\cdot x + b = m_b\\cdot x$$\n",
    "$$x = \\frac{b}{m_b - m}$$\n",
    "$$y = m_b\\cdot\\frac{b}{m_b - m}$$"
   ]
  },
  {
   "cell_type": "code",
   "execution_count": 14,
   "metadata": {
    "collapsed": false
   },
   "outputs": [],
   "source": [
    "x1 = b/(-m + m_bot)\n",
    "y1 = m_bot*b/(-m+m_bot)"
   ]
  },
  {
   "cell_type": "markdown",
   "metadata": {},
   "source": [
    "###### Calculate the distance and angle between the point of intersection and the location of the robot (the origin)"
   ]
  },
  {
   "cell_type": "markdown",
   "metadata": {},
   "source": [
    "$$d_b = \\sqrt {\\left( {x} \\right)^2 + \\left( {y} \\right)^2 }$$"
   ]
  },
  {
   "cell_type": "code",
   "execution_count": 15,
   "metadata": {
    "collapsed": false
   },
   "outputs": [],
   "source": [
    "k = 1\n",
    "distance = ((x1*k)**2 + (y1*k)**2)**0.5\n",
    "VELOCITY = 0.5\n",
    "time = distance/VELOCITY #time in seconds\n",
    "angle = math.atan(y1/x1)"
   ]
  },
  {
   "cell_type": "code",
   "execution_count": 16,
   "metadata": {
    "collapsed": true
   },
   "outputs": [],
   "source": [
    "#inspired by code from https://github.com/markwsilliman/turtlebot/blob/master/goforward.py\n",
    "class MoveForward():\n",
    "    def __init__(self):\n",
    "        rospy.init_node('GoForward', anonymous=False)\n",
    "        rospy.on_shutdown(self.shutdown)\n",
    "        \n",
    "        self.cmd_vel = rospy.Publisher('cmd_vel_mux/input/navi', Twist, queue_size=10)\n",
    "        \n",
    "        # Move at a rate of 10 HZ\n",
    "        r = rospy.Rate(10);\n",
    "        \n",
    "        move_cmd = Twist()\n",
    "        # move at VELOCITY m/s\n",
    "        move_cmd.linear.x = VELOCITY\n",
    "        # turn at angle radians/s\n",
    "        move_cmd.angular.z = angle\n",
    "\n",
    "        while not rospy.is_shutdown():\n",
    "            # publish the velocity\n",
    "            self.cmd_vel.publish(move_cmd)\n",
    "            # publish again after 10 HZ (0.1 s)\n",
    "            r.sleep()\n",
    "        \n",
    "    def shutdown(self):\n",
    "        # stop turtlebot\n",
    "        rospy.loginfo(\"Stop TurtleBot\")\n",
    "        # publish default Twist to stop TurtleBot\n",
    "        self.cmd_vel.publish(Twist())\n",
    "        # confirm TurtleBot receives command before shutting down\n",
    "        rospy.sleep(1)"
   ]
  },
  {
   "cell_type": "code",
   "execution_count": 17,
   "metadata": {
    "collapsed": false
   },
   "outputs": [
    {
     "ename": "NameError",
     "evalue": "name 'rospy' is not defined",
     "output_type": "error",
     "traceback": [
      "\u001b[1;31m---------------------------------------------------------------------------\u001b[0m",
      "\u001b[1;31mNameError\u001b[0m                                 Traceback (most recent call last)",
      "\u001b[1;32m<ipython-input-17-4bdb37dbf9bb>\u001b[0m in \u001b[0;36m<module>\u001b[1;34m()\u001b[0m\n\u001b[1;32m----> 1\u001b[1;33m \u001b[0mstart\u001b[0m \u001b[1;33m=\u001b[0m \u001b[0mrospy\u001b[0m\u001b[1;33m.\u001b[0m\u001b[0mTime\u001b[0m\u001b[1;33m.\u001b[0m\u001b[0mnow\u001b[0m\u001b[1;33m(\u001b[0m\u001b[1;33m)\u001b[0m\u001b[1;33m\u001b[0m\u001b[0m\n\u001b[0m\u001b[0;32m      2\u001b[0m \u001b[1;32mwhile\u001b[0m\u001b[1;33m(\u001b[0m\u001b[0mrospy\u001b[0m\u001b[1;33m.\u001b[0m\u001b[0mTime\u001b[0m\u001b[1;33m.\u001b[0m\u001b[0mnow\u001b[0m\u001b[1;33m(\u001b[0m\u001b[1;33m)\u001b[0m \u001b[1;33m-\u001b[0m \u001b[0mstart\u001b[0m \u001b[1;33m<\u001b[0m \u001b[0mrospy\u001b[0m\u001b[1;33m.\u001b[0m\u001b[0mDuration\u001b[0m\u001b[1;33m(\u001b[0m\u001b[0mtime\u001b[0m\u001b[1;33m)\u001b[0m\u001b[1;33m)\u001b[0m\u001b[1;33m:\u001b[0m\u001b[1;33m\u001b[0m\u001b[0m\n\u001b[0;32m      3\u001b[0m     \u001b[1;32mtry\u001b[0m\u001b[1;33m:\u001b[0m\u001b[1;33m\u001b[0m\u001b[0m\n\u001b[0;32m      4\u001b[0m         \u001b[0mGoForward\u001b[0m\u001b[1;33m(\u001b[0m\u001b[1;33m)\u001b[0m\u001b[1;33m\u001b[0m\u001b[0m\n\u001b[0;32m      5\u001b[0m     \u001b[1;32mexcept\u001b[0m\u001b[1;33m:\u001b[0m\u001b[1;33m\u001b[0m\u001b[0m\n",
      "\u001b[1;31mNameError\u001b[0m: name 'rospy' is not defined"
     ]
    }
   ],
   "source": [
    "start = rospy.Time.now()\n",
    "while(rospy.Time.now() - start < rospy.Duration(time)):\n",
    "    try:\n",
    "        GoForward()\n",
    "    except:\n",
    "        rospy.loginfo(\"Uh oh! The MoveForward node has been terminated\")"
   ]
  },
  {
   "cell_type": "markdown",
   "metadata": {},
   "source": [
    "# Integrating with the robot"
   ]
  },
  {
   "cell_type": "code",
   "execution_count": null,
   "metadata": {
    "collapsed": false
   },
   "outputs": [],
   "source": [
    "from __future__ import print_function\n",
    "import roslib\n",
    "import sys\n",
    "import rospy\n",
    "import cv2\n",
    "from std_msgs.msg import String\n",
    "from sensor_msgs.msg import Image\n",
    "from cv_bridge import CvBridge, CvBridgeError\n",
    "from geometry_msgs.msg import Twist\n",
    "from sensor_msgs.msg import PointCloud2\n",
    "import sensor_msgs.point_cloud2 as pc2\n",
    "import struct\n",
    "import math\n",
    "import numpy as np\n",
    "from sklearn.linear_model import LinearRegression \n",
    "\n",
    "class GoalieBot:\n",
    "\tlimiter = 0\n",
    "\tmaxCount = 4\n",
    "\tskipPixels = 9\n",
    "\trecentDepthImage = None\n",
    "\tCAMERA_ANGLE = 57*math.pi/180 #the camera horizontal angle is 57 degrees\n",
    "\tNUM_PIXLES = 640\n",
    "\tcameraAngle = 21\n",
    "\tdistanceFromGoal = 1.5\n",
    "\tball = None\n",
    "\tballPositions = []\n",
    "\tpositions = []\n",
    "\tshouldContinue = True\n",
    "\tclass Ball:\n",
    "\t\tSPEC = 40\n",
    "\t\tLOW_SPEC = 150\n",
    "\t\tXImagePos = 0.0\n",
    "\t\tYImagePos = 0.0\n",
    "\t\tdistance = 0.0\n",
    "\n",
    "\tdef __init__(self):\n",
    "\t\tself.bridge = CvBridge()\n",
    "\t\t# look at the rgb image\t\t\n",
    "\t\tself.image_sub = rospy.Subscriber(\"/camera/rgb/image_raw\",Image, self.ballTrack, queue_size=5)\n",
    "\t\t\n",
    "\t\t# give commands to the wheels\t\t\n",
    "\t\tself.movement = rospy.Publisher(\"/mobile_base/commands/velocity\", Twist, queue_size=5)\n",
    "\n",
    "\t\t# look at the depth image \n",
    "\t\tself.image_depth = rospy.Subscriber(\"/camera/depth/image_raw\", Image, self.depth_test, queue_size=5)\n",
    "\n",
    "\tdef depth_test(self,data):\n",
    "\t\t# storing the depth image\n",
    "\t\tdata.encoding = \"mono16\"\n",
    "\t\tself.recentDepthImage = self.bridge.imgmsg_to_cv2(data, \"passthrough\")\n",
    "\t\t# open the depth image\n",
    "\t\tif self.ball == None:\n",
    "\t\t\treturn\n",
    "\t\tcv2.circle(self.recentDepthImage, (int(self.ball.YImagePos), int(self.ball.XImagePos)), 25, 100000, thickness=10)\n",
    "\t\t#cv2.imshow(\"\", self.recentDepthImage)\n",
    "\t\t#cv2.waitKey(3)\n",
    "\n",
    "\tdef getPosInDepthImage(self, x, y):\n",
    "\t\tassert self.recentDepthImage != None\n",
    "\t\timage = self.recentDepthImage\n",
    "\t\tx = int(x*image.shape[0]+0.5)\n",
    "\t\ty = int(y*image.shape[1]+0.5)\n",
    "\t\trect_size = 10\n",
    "\t\tmin_depth = image[0][0]\n",
    "\t\tfor i in range(x-rect_size, x+rect_size):\n",
    "\t\t\tif i > 0 and i < image.shape[0]:\n",
    "\t\t\t\tfor j in range(y-rect_size, y+rect_size):\n",
    "\t\t\t\t\tif j > 0 and j < image.shape[1]:\n",
    "\t\t\t\t\t\tif image[x][y] != 0:\n",
    "\t\t\t\t\t\t\tmin_depth = min(image[x][y], min_depth)\n",
    "\t\treturn min_depth\n",
    "\n",
    "\tdef ballTrack(self,data):\n",
    "\t\tif self.shouldContinue == False or self.recentDepthImage == None:\n",
    "\t\t\treturn\n",
    "\t\tif self.limiter < self.maxCount:\n",
    "\t\t\tself.limiter+=1\n",
    "\t\t\treturn\n",
    "\t\tself.limiter = 0\n",
    "\t\ttry:\n",
    "\t\t\timg = self.bridge.imgmsg_to_cv2(data, \"bgr8\")\n",
    "\t\texcept CvBridgeError as e:\n",
    "\t\t\tprint(e)\n",
    "\t\tself.findBall(img)\n",
    "\t\ttwister = Twist()\n",
    "\t\ttwister.angular.z = 0\n",
    "\t\tif self.ball != None:\n",
    "\t\t\t#if ball.XImagePos < img.shape[0]/2:\n",
    "\t\t\t#\ttwister.angular.z = -1\n",
    "\t\t\t#else:\n",
    "\t\t\t#\ttwister.angular.z = 1\n",
    "\t\t\tcv2.ellipse(img, (self.ball.YImagePos, self.ball.XImagePos), (20, 20), 0, 0, 180, (255,0,0), 2)\n",
    "\t\t\t#cv2.imshow(\"Image window\", img)\n",
    "\t\t\tballCoord = self.polarToCartesian(self.ball.distance, self.ball.YImagePos, img.shape[1])\n",
    "\t\t\tself.positions.append(ballCoord)\n",
    "\t\t\tif ballCoord[1] < self.distanceFromGoal:\n",
    "\t\t\t\tself.interceptBall()\n",
    "\t\t\tprint(\"Found ball! Distance is\", ballCoord)\n",
    "\t\t\t#cv2.waitKey(3)\n",
    "\t\telse:\n",
    "\t\t\tprint(\"Can't find ball!\")\n",
    "\t\tself.movement.publish(twister)\n",
    "\n",
    "\tdef interceptBall(self):\n",
    "\t\tlinreg = LinearRegression()\n",
    "\t\tX = [x[0] for x in self.positions]\n",
    "\t\ty = [x[1] for x in self.positions]\n",
    "\t\tlinreg.fit([[Y] for Y in y],[[x] for x in X] )\n",
    "\t\t#Remove Outliers\n",
    "\n",
    "\t\terrors = []\n",
    "\t\tfor i in range(len(X)):\n",
    "\t\t\tpredicted = linreg.predict(X[i])\n",
    "\t\t\terror = abs(predicted - y[i])\n",
    "\t\t\terrors.append(errors)\n",
    "\t\tfor i in range(int(len(X)/20)):\n",
    "\t\t\tmax_error = errors.index(max(errors))\n",
    "\t\t\tX.pop(max_error)\n",
    "\t\t\ty.pop(max_error)\n",
    "\t\tlinreg.fit([[Y] for Y in y], [[x] for x in X])\n",
    "\n",
    "\t\tovershootConstant = 1.8\n",
    "\n",
    "\t\tXBallPredicted = float(linreg.predict(0)[0][0])*overshootConstant\n",
    "\t\n",
    "\n",
    "\t\t# Move at a rate of 10 HZ\n",
    "\t\tr = rospy.Rate(10);\n",
    "\t\tprint(\"Predicted: \", XBallPredicted)\n",
    "\t\tspeed = .6# in m/s: max of .65\n",
    "\t\tupdateRate = 40.0\n",
    "\t\tr = rospy.Rate(updateRate);\n",
    "\t\tprint(\"GOING FOR IT!!!!\")\n",
    "\t\tfor i in range(int(abs(XBallPredicted)*updateRate*(1.0/speed))):\n",
    "\t\t\tmove_cmd = Twist()\n",
    "\t\t\tk=1\n",
    "\t\t\t# turn at angle radians/s\n",
    "\t\t\tif XBallPredicted < 0:\n",
    "\t\t\t\tk = -1\n",
    "\t\t\tmove_cmd.linear.x = k*speed\n",
    "\t\t\t# publish the velocity\n",
    "\t\t\tself.movement.publish(move_cmd)\n",
    "\t\t\t# publish again after 10 HZ (0.1 s)\n",
    "\t\t\tr.sleep()\n",
    "\n",
    "\t\tself.shouldContinue = False\n",
    "\n",
    "\n",
    "\tdef findBall(self, image):\n",
    "\t\t# find the ball in the rgb image, set ball's x-pixel, y-pixel, distance from camera\n",
    "\t\twidth, height, channel = image.shape\n",
    "\t\tminDepth = 100000000\n",
    "\t\tsumXBalls = 0\n",
    "\t\tsumYBalls = 0\n",
    "\t\tcountX = 0\n",
    "\t\tcountY = 0\n",
    "\t\tfor yCoord in range(0, height, self.skipPixels):\n",
    "\t\t\tfor xCoord in range(0, width, self.skipPixels):\n",
    "\t\t\t\tb, g, r = image[xCoord,yCoord]\n",
    "\t\t\t\t#Please note imread is in BGR!\n",
    "\t\t\t\tif g > b + self.Ball.SPEC and g > r + self.Ball.SPEC and g > self.Ball.LOW_SPEC:\n",
    "\t\t\t\t\tsumXBalls += xCoord\n",
    "\t\t\t\t\tsumYBalls += yCoord\n",
    "\t\t\t\t\tcountX += 1\n",
    "\t\t\t\t\tcountY += 1\n",
    "\t\tif countX == 0:\n",
    "\t\t\treturn None\n",
    "\t\tif self.ball == None:\n",
    "\t\t\tself.ball = self.Ball()\n",
    "\t\tself.ball.XImagePos = sumXBalls/countX\n",
    "\t\tself.ball.YImagePos = sumYBalls/countY\n",
    "\t\tk = 2.4865738729\n",
    "\t\tcameraHeight = .2\n",
    "\t\tpixelHeight = self.ball.YImagePos\n",
    "\t\ty = self.ball.XImagePos - width/2\n",
    "\t\tphi = math.atan(2*y*math.tan(57/2*math.pi/180)/width);\n",
    "\t\td = math.tan(math.pi/2 - phi - self.cameraAngle*math.pi/180)*cameraHeight*k\n",
    "\t\tself.ball.distance = d\t\t\n",
    "\n",
    "\tdef polarToCartesian(self, depth, xpos, width_in_pix):\n",
    "\t\tr = depth\n",
    "\t\t#theta = float(-1)*(xpos-self.NUM_PIXLES/2)/(self.NUM_PIXLES/2)*self.CAMERA_ANGLE/2 + 90\n",
    "\t\tstart_angle = 90 - 57/2\n",
    "\t\ttheta = float(width_in_pix - xpos)/float(width_in_pix) * 57 + start_angle\n",
    "\t\t#x = self.ball.YImagePos - width_in_pix/2\n",
    "\t\t#phi = math.atan(2*x*math.tan(57/2*math.pi/180)/\twidth_in_pix)\n",
    "\t\t#print(width_in_pix, self.ball.YImagePos)\n",
    "\t\t#theta = math.tan(math.pi/2 - phi)\n",
    "\t\ty_coord = r*math.sin(theta*math.pi/180)\n",
    "\t\tx_coord = r*math.cos(theta*math.pi/180)\n",
    "\t\treturn (x_coord, y_coord)\n",
    "\n",
    "def main():\n",
    "\trospy.init_node('goalieBot', anonymous=True)\n",
    "\t#ic = image_converter()\n",
    "\tgoalieBot = GoalieBot()\n",
    "\ttry:\n",
    "\t\trospy.spin()\n",
    "\texcept KeyboardInterrupt:\n",
    "\t\tprint(\"Shutting down\")\n",
    "\tcv2.destroyAllWindows()\n",
    "\n",
    "main()"
   ]
  },
  {
   "cell_type": "markdown",
   "metadata": {},
   "source": [
    "# Results"
   ]
  },
  {
   "cell_type": "markdown",
   "metadata": {},
   "source": [
    "### Sample data"
   ]
  },
  {
   "cell_type": "markdown",
   "metadata": {},
   "source": [
    "Found ball! Distance is (0.13993161801956358, 1.6512788514166552)\n",
    "\n",
    "Found ball! Distance is (0.0010888493947457053, 1.8148790504430792)\n",
    "\n",
    "Found ball! Distance is (-0.1570943625997164, 1.9538323337502883)\n",
    "\n",
    "Found ball! Distance is (-0.037961547649821806, 1.793576716255294)\n",
    "\n",
    "Found ball! Distance is (0.014348498671807186, 1.7138016068301745)\n",
    "\n",
    "Found ball! Distance is (-0.2932684091690599, 1.9380745773452985)\n",
    "\n",
    "Found ball! Distance is (-0.3593614163994403, 1.926914320765741)\n",
    "\n",
    "Found ball! Distance is (-0.36120709382093025, 1.9882106610460286)\n",
    "\n",
    "Found ball! Distance is (-0.3609753958873394, 1.9027279313177135)\n",
    "\n",
    "Found ball! Distance is (-0.18436324326141793, 1.774108941201135)\n",
    "\n",
    "Found ball! Distance is (-0.18092457284491842, 1.7952900822366742)\n",
    "\n",
    "Found ball! Distance is (-0.1872045044284429, 1.723246748287013)\n",
    "\n",
    "Found ball! Distance is (-0.0702651367752794, 1.5253276590989073)\n",
    "\n",
    "Found ball! Distance is (0.07304176252044554, 1.2226740500630218)\n",
    "\n",
    "Found ball! Distance is (0.1686843762348317, 0.8144341936266234)"
   ]
  },
  {
   "cell_type": "markdown",
   "metadata": {},
   "source": [
    "### Test run 1"
   ]
  },
  {
   "cell_type": "code",
   "execution_count": null,
   "metadata": {
    "collapsed": false,
    "scrolled": false
   },
   "outputs": [],
   "source": [
    "HTML('<iframe width=\"560\" height=\"315\" src=\"https://www.youtube.com/embed/raBsW7Jb58s\" frameborder=\"0\" allowfullscreen></iframe>')"
   ]
  }
 ],
 "metadata": {
  "anaconda-cloud": {},
  "kernelspec": {
   "display_name": "Python [Root]",
   "language": "python",
   "name": "Python [Root]"
  },
  "language_info": {
   "codemirror_mode": {
    "name": "ipython",
    "version": 3
   },
   "file_extension": ".py",
   "mimetype": "text/x-python",
   "name": "python",
   "nbconvert_exporter": "python",
   "pygments_lexer": "ipython3",
   "version": "3.5.2"
  }
 },
 "nbformat": 4,
 "nbformat_minor": 0
}
