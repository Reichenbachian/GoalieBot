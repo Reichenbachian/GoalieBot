{
 "cells": [
  {
   "cell_type": "code",
   "execution_count": 75,
   "metadata": {
    "collapsed": false
   },
   "outputs": [],
   "source": [
    "from PIL import Image, ImageDraw"
   ]
  },
  {
   "cell_type": "code",
   "execution_count": 76,
   "metadata": {
    "collapsed": false
   },
   "outputs": [],
   "source": [
    "img = Image.open('Data/20161104_172958.jpg')\n",
    "if type(img) == None:\n",
    "    print(\"ERROR! IMAGE NOT FOUND\")"
   ]
  },
  {
   "cell_type": "code",
   "execution_count": 77,
   "metadata": {
    "collapsed": false
   },
   "outputs": [],
   "source": [
    "def findBall(r, g, b, tol, image):\n",
    "    rLower = r-tol\n",
    "    rUpper = r+tol\n",
    "    gLower = g-tol\n",
    "    gUpper = g+tol\n",
    "    bLower = b-tol\n",
    "    bUpper = b+tol\n",
    "    xBall = []\n",
    "    yBall = []\n",
    "    width, height = image.size\n",
    "    for yCoord in range(0, height, 3):\n",
    "        for xCoord in range(0, width, 3):\n",
    "            r, g, b = image.getpixel((xCoord, yCoord))\n",
    "            #Please note imread is in BGR!\n",
    "            if g > b + tol and g > r + tol:\n",
    "                    xBall.append(xCoord)\n",
    "                    yBall.append(yCoord)\n",
    "    return (sum(xBall)/len(xBall), sum(yBall)/len(yBall))\n",
    "                    "
   ]
  },
  {
   "cell_type": "code",
   "execution_count": 78,
   "metadata": {
    "collapsed": false
   },
   "outputs": [],
   "source": [
    "coords = findBall(100, 100, 90, 10, img)\n",
    "draw = ImageDraw.Draw(img)\n",
    "draw.ellipse((coords[0]-20, coords[1]-20, coords[0]+20, coords[1]+20), fill = 'blue', outline ='blue')\n",
    "img.show()"
   ]
  },
  {
   "cell_type": "code",
   "execution_count": 69,
   "metadata": {
    "collapsed": false
   },
   "outputs": [
    {
     "name": "stdout",
     "output_type": "stream",
     "text": [
      "(1486.6234260019814, 3397.082140044542)\n"
     ]
    }
   ],
   "source": [
    "print(findBall(110, 149, 90, 10, img))"
   ]
  },
  {
   "cell_type": "code",
   "execution_count": null,
   "metadata": {
    "collapsed": true
   },
   "outputs": [],
   "source": [
    "CAMERA_ANGLE = 57*pi/180 #the camera horizontal angle is 57 degrees\n",
    "NUM_PIXLES = img.size[0]\n",
    "\n",
    "def find_pos(depth, xpos):\n",
    "    r = depth\n",
    "    theta = (xpos-NUM_PIXLES/2)/(NUM_PIXLES/2)*CAMERA_ANGLE/2\n",
    "    x = r*cos(theta)\n",
    "    y = r*sin(theta)\n",
    "    return (x, y)"
   ]
  }
 ],
 "metadata": {
  "anaconda-cloud": {},
  "kernelspec": {
   "display_name": "Python [Root]",
   "language": "python",
   "name": "Python [Root]"
  },
  "language_info": {
   "codemirror_mode": {
    "name": "ipython",
    "version": 3
   },
   "file_extension": ".py",
   "mimetype": "text/x-python",
   "name": "python",
   "nbconvert_exporter": "python",
   "pygments_lexer": "ipython3",
   "version": "3.5.2"
  }
 },
 "nbformat": 4,
 "nbformat_minor": 0
}
